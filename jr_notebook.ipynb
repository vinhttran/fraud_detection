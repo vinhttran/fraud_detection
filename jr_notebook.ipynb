{
 "cells": [
  {
   "cell_type": "code",
   "execution_count": 25,
   "metadata": {},
   "outputs": [
    {
     "name": "stdout",
     "output_type": "stream",
     "text": [
      "[nltk_data] Downloading package words to /home/ubuntu/nltk_data...\n",
      "[nltk_data]   Package words is already up-to-date!\n",
      "[nltk_data] Downloading package stopwords to /home/ubuntu/nltk_data...\n",
      "[nltk_data]   Unzipping corpora/stopwords.zip.\n"
     ]
    }
   ],
   "source": [
    "import numpy as np\n",
    "import pandas as pd\n",
    "import matplotlib.pyplot as plt\n",
    "pd.set_option('display.max_columns', 500)\n",
    "\n",
    "import seaborn as sns\n",
    "import nltk\n",
    "nltk.download('words')\n",
    "pd.set_option('max_colwidth', 40)\n",
    "import os\n",
    "from sklearn.feature_extraction.text import TfidfVectorizer\n",
    "nltk.download('stopwords')\n",
    "from nltk.corpus import stopwords\n",
    "import string\n",
    "sws = set(stopwords.words('english'))\n",
    "punctuation = set(string.punctuation)"
   ]
  },
  {
   "cell_type": "code",
   "execution_count": 9,
   "metadata": {},
   "outputs": [],
   "source": [
    "df = pd.read_json('data/data.json')"
   ]
  },
  {
   "cell_type": "code",
   "execution_count": 10,
   "metadata": {},
   "outputs": [],
   "source": [
    "df_description = df[['description']]"
   ]
  },
  {
   "cell_type": "code",
   "execution_count": 35,
   "metadata": {},
   "outputs": [
    {
     "data": {
      "text/plain": [
       "array(['premium', 'tos_warn', 'fraudster_event', 'spammer_warn',\n",
       "       'fraudster', 'locked', 'spammer_noinvite', 'spammer_limited',\n",
       "       'tos_lock', 'fraudster_att'], dtype=object)"
      ]
     },
     "execution_count": 35,
     "metadata": {},
     "output_type": "execute_result"
    }
   ],
   "source": [
    "df['acct_type'].unique()"
   ]
  },
  {
   "cell_type": "code",
   "execution_count": 12,
   "metadata": {},
   "outputs": [],
   "source": [
    "df_nums = df[['approx_payout_date', 'body_length', 'channels', 'delivery_method',\n",
    "       'event_created', 'event_end', 'event_published', 'event_start',\n",
    "       'fb_published', 'gts', 'has_analytics', 'has_header', 'has_logo',\n",
    "       'name_length', 'num_order', 'num_payouts', 'object_id', 'org_facebook',\n",
    "       'org_twitter', 'sale_duration', 'sale_duration2', 'show_map',\n",
    "       'user_age', 'user_created', 'user_type', 'venue_latitude',\n",
    "       'venue_longitude']]"
   ]
  },
  {
   "cell_type": "code",
   "execution_count": 11,
   "metadata": {},
   "outputs": [],
   "source": [
    "def unique_col_indicator(df,col): \n",
    "    try:\n",
    "        col_count = df.groupby(['user_created',col])['channels'].count().shape[0]\n",
    "        user_count = df.groupby(['user_created'])['channels'].count().shape[0]\n",
    "        if col_count == user_count:\n",
    "            return True\n",
    "        else:\n",
    "           \n",
    "            return False\n",
    "    except:\n",
    "        pass"
   ]
  },
  {
   "cell_type": "code",
   "execution_count": 13,
   "metadata": {},
   "outputs": [],
   "source": [
    "def user_df():\n",
    "    unique_cols = []\n",
    "    for col in columns:\n",
    "        if unique_col_indicator(df,col):\n",
    "            unique_cols.append(col)\n",
    "    user_unique_events = df.groupby('user_created').count().max(axis=1)\n",
    "    user_unique_events = pd.DataFrame(user_unique_events,columns=['user_event_count'])\n",
    "    return df[unique_cols].merge(user_unique_events,how='inner',on='user_created')"
   ]
  },
  {
   "cell_type": "code",
   "execution_count": 14,
   "metadata": {},
   "outputs": [],
   "source": [
    "columns = ['acct_type', 'approx_payout_date', 'body_length', 'channels', 'country',\n",
    "       'currency', 'delivery_method', 'description', 'email_domain',\n",
    "       'event_created', 'event_end', 'event_published', 'event_start',\n",
    "       'fb_published', 'gts', 'has_analytics', 'has_header', 'has_logo',\n",
    "       'listed', 'name', 'name_length', 'num_order', 'num_payouts',\n",
    "       'object_id', 'org_desc', 'org_facebook', 'org_name', 'org_twitter',\n",
    "       'payee_name', 'payout_type', 'previous_payouts', 'sale_duration',\n",
    "       'sale_duration2', 'show_map', 'ticket_types', 'user_age',\n",
    "       'user_created', 'user_type', 'venue_address', 'venue_country',\n",
    "       'venue_latitude', 'venue_longitude', 'venue_name', 'venue_state']\n"
   ]
  },
  {
   "cell_type": "code",
   "execution_count": 249,
   "metadata": {},
   "outputs": [],
   "source": [
    "def user_unique_events_col():\n",
    "    user_unique_events = df.groupby('user_created').count().max(axis=1)\n",
    "    user_unique_events =  pd.DataFrame(user_unique_events,columns=['user_event_count'])\n",
    "    return df.merge(user_unique_events,how='inner',on='user_created')"
   ]
  },
  {
   "cell_type": "code",
   "execution_count": 224,
   "metadata": {},
   "outputs": [],
   "source": [
    "user_unique_events = df.groupby('user_created').count().max(axis=1)\n",
    "user_unique_events = pd.DataFrame(user_unique_events,columns=['user_event_count'])"
   ]
  },
  {
   "cell_type": "code",
   "execution_count": 15,
   "metadata": {},
   "outputs": [],
   "source": [
    "def user_event_count():\n",
    "    df['user_event_count'] = df.groupby('user_created').count().max(axis=1)\n",
    "    return df"
   ]
  },
  {
   "cell_type": "code",
   "execution_count": 262,
   "metadata": {},
   "outputs": [],
   "source": [
    "def drop_cols():\n",
    "    df.drop(['acct_type'],axis=1)\n",
    "    return df"
   ]
  },
  {
   "cell_type": "code",
   "execution_count": 256,
   "metadata": {},
   "outputs": [],
   "source": [
    "def create_target():\n",
    "    df['fraud'] = df['acct_type'].map({'fraudster_event': 1, \n",
    "                                   'premium': 0, \n",
    "                                   'spammer_warn': 0, \n",
    "                                   'fraudster': 1,\n",
    "                                   'spammer_limited': 0, \n",
    "                                   'spammer_noinvite': 0,\n",
    "                                   'locked': 1, \n",
    "                                   'tos_lock': 0,\n",
    "                                   'tos_warn': 0,\n",
    "                                   'fraudster_att': 1,\n",
    "                                   'spammer_web': 0,\n",
    "                                   'spammer': 0})\n",
    "    return df"
   ]
  },
  {
   "cell_type": "code",
   "execution_count": 260,
   "metadata": {},
   "outputs": [],
   "source": [
    "df = create_target()"
   ]
  },
  {
   "cell_type": "code",
   "execution_count": 274,
   "metadata": {},
   "outputs": [],
   "source": [
    "num_columns = ['approx_payout_date', 'body_length', 'channels', 'delivery_method',\n",
    "       'event_created', 'event_end', 'event_published', 'event_start',\n",
    "       'fb_published', 'gts', 'has_analytics', 'has_header', 'has_logo',\n",
    "       'name_length', 'num_order', 'num_payouts', 'object_id', 'org_facebook',\n",
    "       'org_twitter', 'sale_duration', 'sale_duration2', 'show_map',\n",
    "       'user_age', 'user_created', 'user_type', 'venue_latitude',\n",
    "       'venue_longitude', 'user_event_count', 'user_unique_events','fraud']\n",
    "\n",
    "target_column = ['fraud']"
   ]
  },
  {
   "cell_type": "code",
   "execution_count": 317,
   "metadata": {},
   "outputs": [
    {
     "data": {
      "text/plain": [
       "<matplotlib.axes._subplots.AxesSubplot at 0x133db8e48>"
      ]
     },
     "execution_count": 317,
     "metadata": {},
     "output_type": "execute_result"
    },
    {
     "data": {
      "image/png": "[encoded data removed]",
      "text/plain": [
       "<Figure size 432x288 with 2 Axes>"
      ]
     },
     "metadata": {
      "needs_background": "light"
     },
     "output_type": "display_data"
    }
   ],
   "source": [
    "\n",
    "sns.heatmap(corr_df,annot=True)"
   ]
  },
  {
   "cell_type": "code",
   "execution_count": 16,
   "metadata": {},
   "outputs": [],
   "source": [
    "def low_cor_cols(r_score):\n",
    "    df[num_columns].corr()[['fraud']].values\n",
    "    corr_df = df[num_columns].corr()[['fraud']].sort_values('fraud')\n",
    "    low_corr_mask = corr_df.sort_values('fraud').abs().lt(r_score).values.reshape(1,-1)[0]\n",
    "    return corr_df[low_corr_mask]"
   ]
  },
  {
   "cell_type": "code",
   "execution_count": 17,
   "metadata": {},
   "outputs": [],
   "source": [
    "import pandas as pd\n",
    "pd.set_option('display.max_colwidth', -1)\n",
    "import re\n",
    "from string import digits\n",
    "import nltk\n",
    "from html.parser import HTMLParser\n",
    "\n",
    "'''you must have nltk packages installed to run this file. To do so run the following commands:\n",
    "\n",
    "import ntlk \n",
    "nltk.download()\n",
    "\n",
    "A new window should open, showing the NLTK Downloader. Click on the File menu and select Change Download Directory. \n",
    "For central installation, set this to C:\\nltk_data (Windows), /usr/local/share/nltk_data (Mac)'''\n",
    "\n",
    "class MLStripper(HTMLParser):\n",
    "    '''This class parses HTML from the description column\n",
    "    input: string\n",
    "    output: string'''\n",
    "    def __init__(self):\n",
    "        self.reset()\n",
    "        self.strict = False\n",
    "        self.convert_charrefs= True\n",
    "        self.fed = []\n",
    "    def handle_data(self, d):\n",
    "        self.fed.append(d)\n",
    "    def get_data(self):\n",
    "        return ''.join(self.fed)\n",
    "\n",
    "def strip_tags(html):\n",
    "    s = MLStripper()\n",
    "    s.feed(html)\n",
    "    return s.get_data()\n",
    "\n",
    "def clean_desc(df):\n",
    "\n",
    "    '''cleans the data. see below for documentation. adds three new columns:\n",
    "    df['description_clean'] is the new cleaned description data\n",
    "    df['description_html'] are the descriptions written in html\n",
    "    df['description_none'] are the descriptions with no text\n",
    "    '''\n",
    "    \n",
    "    #creates a new column for all events using HTML invites\n",
    "    df['description_html'] = df['description'].apply(lambda x: True if ('</span>' or '</div>') in x else False)\n",
    "\n",
    "    #strips HTML documentation\n",
    "    df['description_clean'] = df['description'].apply(lambda x: strip_tags(x))\n",
    "\n",
    "    #replaces artifacts from HTML tht didn't get cleaned up through the strip_tags script\n",
    "    df['description_clean'] = df['description_clean'].apply(lambda x: x.replace('\\r',''))\n",
    "    df['description_clean'] = df['description_clean'].apply(lambda x: x.replace('\\n',''))\n",
    "    df['description_clean'] = df['description_clean'].apply(lambda x: x.replace('</li>',''))\n",
    "    df['description_clean'] = df['description_clean'].apply(lambda x: x.replace('<li>',' '))\n",
    "    \n",
    "    #remove websites\n",
    "    df['description_clean'] = df['description_clean'].apply(lambda x: re.sub(r'www\\.\\S+\\.com', '', x, flags=re.MULTILINE))\n",
    "\n",
    "    #remove websites\n",
    "    df['description_clean'] = df['description_clean'].apply(lambda x: re.sub(r'^https?:\\/\\/.*[\\r\\n]*', '', x, flags=re.MULTILINE))\n",
    "    \n",
    "    #remove email addresses\n",
    "    df['description_clean'] = df['description_clean'].apply(lambda x: re.sub('\\S*@\\S*\\s?','', x))\n",
    "\n",
    "    #remove special characters\n",
    "    df['description_clean'] = df['description_clean'].apply(lambda x: re.sub('\\W+',' ', x )) \n",
    "    \n",
    "    # remove numbers from string\n",
    "    df['description_clean'] = df['description_clean'].apply(lambda x: re.sub(r'\\d+', '', x))\n",
    "    \n",
    "    # lower case everything\n",
    "    df['description_clean'] = df['description_clean'].apply(lambda x: x.lower())\n",
    "\n",
    "    #removes non-english words\n",
    "    words = set(nltk.corpus.words.words())\n",
    "    df['description_clean'] = df['description_clean'].apply(lambda x: \" \".join(w for w in nltk.wordpunct_tokenize(x) if w.lower() in words or not w.isalpha())) \n",
    "\n",
    "    df['description_none']= df['description_clean']==''\n",
    "\n",
    "    return df"
   ]
  },
  {
   "cell_type": "code",
   "execution_count": 416,
   "metadata": {},
   "outputs": [],
   "source": [
    "def description_cols():\n",
    "    df = clean_desc(df_description['description'].apply(strip_tags))\n",
    "    return df"
   ]
  },
  {
   "cell_type": "code",
   "execution_count": 18,
   "metadata": {},
   "outputs": [
    {
     "name": "stderr",
     "output_type": "stream",
     "text": [
      "/home/ubuntu/anaconda3/lib/python3.6/site-packages/ipykernel_launcher.py:1: SettingWithCopyWarning: \n",
      "A value is trying to be set on a copy of a slice from a DataFrame.\n",
      "Try using .loc[row_indexer,col_indexer] = value instead\n",
      "\n",
      "See the caveats in the documentation: http://pandas.pydata.org/pandas-docs/stable/indexing.html#indexing-view-versus-copy\n",
      "  \"\"\"Entry point for launching an IPython kernel.\n"
     ]
    }
   ],
   "source": [
    "df_description['description'] = df_description['description'].apply(strip_tags)"
   ]
  },
  {
   "cell_type": "code",
   "execution_count": 19,
   "metadata": {},
   "outputs": [
    {
     "name": "stderr",
     "output_type": "stream",
     "text": [
      "/home/ubuntu/anaconda3/lib/python3.6/site-packages/ipykernel_launcher.py:44: SettingWithCopyWarning: \n",
      "A value is trying to be set on a copy of a slice from a DataFrame.\n",
      "Try using .loc[row_indexer,col_indexer] = value instead\n",
      "\n",
      "See the caveats in the documentation: http://pandas.pydata.org/pandas-docs/stable/indexing.html#indexing-view-versus-copy\n",
      "/home/ubuntu/anaconda3/lib/python3.6/site-packages/ipykernel_launcher.py:47: SettingWithCopyWarning: \n",
      "A value is trying to be set on a copy of a slice from a DataFrame.\n",
      "Try using .loc[row_indexer,col_indexer] = value instead\n",
      "\n",
      "See the caveats in the documentation: http://pandas.pydata.org/pandas-docs/stable/indexing.html#indexing-view-versus-copy\n",
      "/home/ubuntu/anaconda3/lib/python3.6/site-packages/ipykernel_launcher.py:50: SettingWithCopyWarning: \n",
      "A value is trying to be set on a copy of a slice from a DataFrame.\n",
      "Try using .loc[row_indexer,col_indexer] = value instead\n",
      "\n",
      "See the caveats in the documentation: http://pandas.pydata.org/pandas-docs/stable/indexing.html#indexing-view-versus-copy\n",
      "/home/ubuntu/anaconda3/lib/python3.6/site-packages/ipykernel_launcher.py:51: SettingWithCopyWarning: \n",
      "A value is trying to be set on a copy of a slice from a DataFrame.\n",
      "Try using .loc[row_indexer,col_indexer] = value instead\n",
      "\n",
      "See the caveats in the documentation: http://pandas.pydata.org/pandas-docs/stable/indexing.html#indexing-view-versus-copy\n",
      "/home/ubuntu/anaconda3/lib/python3.6/site-packages/ipykernel_launcher.py:52: SettingWithCopyWarning: \n",
      "A value is trying to be set on a copy of a slice from a DataFrame.\n",
      "Try using .loc[row_indexer,col_indexer] = value instead\n",
      "\n",
      "See the caveats in the documentation: http://pandas.pydata.org/pandas-docs/stable/indexing.html#indexing-view-versus-copy\n",
      "/home/ubuntu/anaconda3/lib/python3.6/site-packages/ipykernel_launcher.py:53: SettingWithCopyWarning: \n",
      "A value is trying to be set on a copy of a slice from a DataFrame.\n",
      "Try using .loc[row_indexer,col_indexer] = value instead\n",
      "\n",
      "See the caveats in the documentation: http://pandas.pydata.org/pandas-docs/stable/indexing.html#indexing-view-versus-copy\n",
      "/home/ubuntu/anaconda3/lib/python3.6/site-packages/ipykernel_launcher.py:56: SettingWithCopyWarning: \n",
      "A value is trying to be set on a copy of a slice from a DataFrame.\n",
      "Try using .loc[row_indexer,col_indexer] = value instead\n",
      "\n",
      "See the caveats in the documentation: http://pandas.pydata.org/pandas-docs/stable/indexing.html#indexing-view-versus-copy\n",
      "/home/ubuntu/anaconda3/lib/python3.6/site-packages/ipykernel_launcher.py:59: SettingWithCopyWarning: \n",
      "A value is trying to be set on a copy of a slice from a DataFrame.\n",
      "Try using .loc[row_indexer,col_indexer] = value instead\n",
      "\n",
      "See the caveats in the documentation: http://pandas.pydata.org/pandas-docs/stable/indexing.html#indexing-view-versus-copy\n",
      "/home/ubuntu/anaconda3/lib/python3.6/site-packages/ipykernel_launcher.py:62: SettingWithCopyWarning: \n",
      "A value is trying to be set on a copy of a slice from a DataFrame.\n",
      "Try using .loc[row_indexer,col_indexer] = value instead\n",
      "\n",
      "See the caveats in the documentation: http://pandas.pydata.org/pandas-docs/stable/indexing.html#indexing-view-versus-copy\n",
      "/home/ubuntu/anaconda3/lib/python3.6/site-packages/ipykernel_launcher.py:65: SettingWithCopyWarning: \n",
      "A value is trying to be set on a copy of a slice from a DataFrame.\n",
      "Try using .loc[row_indexer,col_indexer] = value instead\n",
      "\n",
      "See the caveats in the documentation: http://pandas.pydata.org/pandas-docs/stable/indexing.html#indexing-view-versus-copy\n",
      "/home/ubuntu/anaconda3/lib/python3.6/site-packages/ipykernel_launcher.py:68: SettingWithCopyWarning: \n",
      "A value is trying to be set on a copy of a slice from a DataFrame.\n",
      "Try using .loc[row_indexer,col_indexer] = value instead\n",
      "\n",
      "See the caveats in the documentation: http://pandas.pydata.org/pandas-docs/stable/indexing.html#indexing-view-versus-copy\n",
      "/home/ubuntu/anaconda3/lib/python3.6/site-packages/ipykernel_launcher.py:71: SettingWithCopyWarning: \n",
      "A value is trying to be set on a copy of a slice from a DataFrame.\n",
      "Try using .loc[row_indexer,col_indexer] = value instead\n",
      "\n",
      "See the caveats in the documentation: http://pandas.pydata.org/pandas-docs/stable/indexing.html#indexing-view-versus-copy\n",
      "/home/ubuntu/anaconda3/lib/python3.6/site-packages/ipykernel_launcher.py:75: SettingWithCopyWarning: \n",
      "A value is trying to be set on a copy of a slice from a DataFrame.\n",
      "Try using .loc[row_indexer,col_indexer] = value instead\n",
      "\n",
      "See the caveats in the documentation: http://pandas.pydata.org/pandas-docs/stable/indexing.html#indexing-view-versus-copy\n",
      "/home/ubuntu/anaconda3/lib/python3.6/site-packages/ipykernel_launcher.py:77: SettingWithCopyWarning: \n",
      "A value is trying to be set on a copy of a slice from a DataFrame.\n",
      "Try using .loc[row_indexer,col_indexer] = value instead\n",
      "\n",
      "See the caveats in the documentation: http://pandas.pydata.org/pandas-docs/stable/indexing.html#indexing-view-versus-copy\n"
     ]
    }
   ],
   "source": [
    "description_df = clean_desc(df_description)"
   ]
  },
  {
   "cell_type": "code",
   "execution_count": null,
   "metadata": {},
   "outputs": [],
   "source": []
  },
  {
   "cell_type": "code",
   "execution_count": 27,
   "metadata": {},
   "outputs": [
    {
     "name": "stderr",
     "output_type": "stream",
     "text": [
      "/home/ubuntu/anaconda3/lib/python3.6/site-packages/ipykernel_launcher.py:1: SettingWithCopyWarning: \n",
      "A value is trying to be set on a copy of a slice from a DataFrame.\n",
      "Try using .loc[row_indexer,col_indexer] = value instead\n",
      "\n",
      "See the caveats in the documentation: http://pandas.pydata.org/pandas-docs/stable/indexing.html#indexing-view-versus-copy\n",
      "  \"\"\"Entry point for launching an IPython kernel.\n"
     ]
    }
   ],
   "source": [
    "description_df['description_clean'] = \\\n",
    "            [''.join([word for word in doc if word not in punctuation]) for doc in description_df['description_clean']]"
   ]
  },
  {
   "cell_type": "code",
   "execution_count": 29,
   "metadata": {},
   "outputs": [],
   "source": [
    "tfidf1 = TfidfVectorizer(stop_words=sws,max_features=20000)\n",
    "description_vector = tfidf1.fit_transform(description_df['description_clean'])\n",
    "\n",
    "description_word_df = pd.DataFrame(description_vector.toarray(),columns = tfidf1.get_feature_names())"
   ]
  },
  {
   "cell_type": "code",
   "execution_count": 30,
   "metadata": {},
   "outputs": [],
   "source": [
    "tfidf2 = TfidfVectorizer(stop_words=sws,max_features=10000)\n",
    "name_vector = tfidf2.fit_transform(df['name'])\n",
    "name_word_df = pd.DataFrame(name_vector.toarray(),columns = tfidf2.get_feature_names())"
   ]
  },
  {
   "cell_type": "code",
   "execution_count": 35,
   "metadata": {},
   "outputs": [
    {
     "name": "stdout",
     "output_type": "stream",
     "text": [
      "(14337, 25465)\n",
      "(14337, 20000)\n",
      "(14337, 10000)\n"
     ]
    }
   ],
   "source": [
    "print((description_word_df + name_word_df).shape)\n",
    "print(description_word_df.shape)\n",
    "print(name_word_df.shape)"
   ]
  },
  {
   "cell_type": "code",
   "execution_count": 40,
   "metadata": {},
   "outputs": [],
   "source": [
    "from sklearn.decomposition import TruncatedSVD\n",
    "svd = TruncatedSVD(n_components=400)\n",
    "description_topics = svd.fit_transform(description_word_df)\n",
    "pd.DataFrame(description_topics,columns"
   ]
  },
  {
   "cell_type": "code",
   "execution_count": 45,
   "metadata": {},
   "outputs": [],
   "source": [
    "topic_cols = ['topic_{}'.format(i) for i in range(description_topics.shape[1])]\n",
    "description_topics = pd.DataFrame(description_topics,columns=topic_cols)"
   ]
  },
  {
   "cell_type": "code",
   "execution_count": 47,
   "metadata": {},
   "outputs": [],
   "source": [
    "description_topics.to_pickle('data/description_topics_df.pickle')"
   ]
  },
  {
   "cell_type": "code",
   "execution_count": 454,
   "metadata": {},
   "outputs": [],
   "source": [
    "#description_word_df.to_pickle('data/description_df.pickle')\n",
    "description_word_df.to_pickle('data/description_word_df.pickle')"
   ]
  },
  {
   "cell_type": "code",
   "execution_count": null,
   "metadata": {},
   "outputs": [],
   "source": [
    "name_word_df"
   ]
  }
 ],
 "metadata": {
  "kernelspec": {
   "display_name": "Python 3",
   "language": "python",
   "name": "python3"
  },
  "language_info": {
   "codemirror_mode": {
    "name": "ipython",
    "version": 3
   },
   "file_extension": ".py",
   "mimetype": "text/x-python",
   "name": "python",
   "nbconvert_exporter": "python",
   "pygments_lexer": "ipython3",
   "version": "3.6.5"
  }
 },
 "nbformat": 4,
 "nbformat_minor": 2
}
